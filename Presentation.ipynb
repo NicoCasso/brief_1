{
 "cells": [
  {
   "cell_type": "markdown",
   "metadata": {},
   "source": [
    "Brief n°1 :"
   ]
  },
  {
   "cell_type": "markdown",
   "metadata": {},
   "source": [
    "Contexte du projet\n",
    "\n",
    "Vous travaillez avec le service comptable d'une entreprise qui possède plusieurs filiales. Chaque filiale emploie entre 15 et 20 employés. La direction souhaite automatiser le calcul des salaires mensuels des employés en tenant compte des heures supplémentaires et obtenir des statistiques salariales pour optimiser la gestion des ressources humaines.\n",
    "\n",
    "Les données des employés sont fournies dans un fichier JSON qui contient toutes les informations nécessaires : nom, poste, taux horaire, heures travaillées, heures contractuelles, pour chaque employé des filiales.\n",
    "\n",
    "​\n",
    "\n",
    "Conseils\n",
    "\n",
    "    Planifiez votre travail : répartissez le temps entre les différentes tâches.\n",
    "    Testez régulièrement votre code pour valider chaque étape.\n",
    "    Soignez la qualité du code : commentaires, docstrings, annotations de type.\n",
    "    Soignez l'affichage des résultats dans la console pour qu'ils soient agréables à lire.\n",
    "    N'hésitez pas à innover : des solutions créatives sont les bienvenues.\n",
    "\n"
   ]
  },
  {
   "cell_type": "code",
   "execution_count": 3,
   "metadata": {},
   "outputs": [
    {
     "name": "stdout",
     "output_type": "stream",
     "text": [
      "Requirement already satisfied: pip in ./.venv/lib/python3.12/site-packages (24.0)\n",
      "Collecting pip\n",
      "  Using cached pip-24.2-py3-none-any.whl.metadata (3.6 kB)\n",
      "Using cached pip-24.2-py3-none-any.whl (1.8 MB)\n",
      "Installing collected packages: pip\n",
      "  Attempting uninstall: pip\n",
      "    Found existing installation: pip 24.0\n",
      "    Uninstalling pip-24.0:\n",
      "      Successfully uninstalled pip-24.0\n",
      "Successfully installed pip-24.2\n"
     ]
    }
   ],
   "source": [
    "!pip install -U pip"
   ]
  },
  {
   "cell_type": "markdown",
   "metadata": {},
   "source": [
    "Généralités sur l'architecture"
   ]
  },
  {
   "cell_type": "code",
   "execution_count": 1,
   "metadata": {},
   "outputs": [
    {
     "name": "stdout",
     "output_type": "stream",
     "text": [
      "Starting from /home/nicolascassonnet/Documents/WORK/PYTHON/brief1\n",
      "    Root of IN_Folder and OUT_Folder : /home/nicolascassonnet/Documents/WORK/PYTHON/brief1\n",
      "    Opening /home/nicolascassonnet/Documents/WORK/PYTHON/brief1/IN_Folder/employes-data.json ...\n",
      "    Saving new data to /home/nicolascassonnet/Documents/WORK/PYTHON/brief1/OUT_Folder/jsonResult.json ...\n",
      "    Creating csv presentation ...\n",
      "    Saving presentation to /home/nicolascassonnet/Documents/WORK/PYTHON/brief1/OUT_Folder/result.csv ...\n",
      "     ! error while saving csv file\n",
      "Done.\n"
     ]
    }
   ],
   "source": [
    "import SourceCode.EntryFile as ef\n",
    "\n",
    "for info in ef.MainFunction() : \n",
    "    print(info)\n"
   ]
  },
  {
   "cell_type": "markdown",
   "metadata": {},
   "source": [
    "Modalités pédagogiques\n"
   ]
  },
  {
   "cell_type": "markdown",
   "metadata": {},
   "source": [
    "1. Importation et Préparation des Données\n",
    "\n",
    "Charger le fichier JSON fourni contenant les informations des employés."
   ]
  },
  {
   "cell_type": "code",
   "execution_count": 4,
   "metadata": {},
   "outputs": [
    {
     "name": "stdout",
     "output_type": "stream",
     "text": [
      "data has been loaded\n",
      "3 subsidiaries : ['TechCorp', 'DesignWorks', 'ProjectLead']\n",
      "    TechCorp: 15 employees\n",
      "    DesignWorks: 18 employees\n",
      "    ProjectLead: 17 employees\n"
     ]
    }
   ],
   "source": [
    "import SourceCode.InputOutputManager as iomg\n",
    "\n",
    "data = iomg.openData()\n",
    "\n",
    "if len(data) != 1 :\n",
    "     print(\"data has been loaded\")\n",
    "\n",
    "subsidiaries = list(data.keys())\n",
    "print(f\"{len(subsidiaries)} subsidiaries : {subsidiaries}\")\n",
    "for key, val in data.items() :\n",
    "    print(f\"    {key}: {len(val)} employees\")\n"
   ]
  },
  {
   "cell_type": "markdown",
   "metadata": {},
   "source": [
    "2. Calcul des Salaires Mensuels\n",
    "\n",
    "Pour chaque employé, calculer le salaire mensuel en tenant compte des heures supplémentaires.\n",
    "\n",
    "Les heures supplémentaires sont rémunérées à un taux majoré (1,5 fois le taux horaire normal) au-delà des heures contractuelles.\n",
    "\n",
    "Les heures contractuelles peuvent varier d'un employé à l'autre."
   ]
  },
  {
   "cell_type": "code",
   "execution_count": 5,
   "metadata": {},
   "outputs": [
    {
     "name": "stdout",
     "output_type": "stream",
     "text": [
      "50 employees OK, 0 employees KO\n"
     ]
    }
   ],
   "source": [
    "import SourceCode.InputOutputManager as iomg\n",
    "\n",
    "data = iomg.openData()\n",
    "\n",
    "okCount=0\n",
    "errors = []\n",
    "for subName, subEmps in data.items() :\n",
    "    for empTuple in subEmps :\n",
    "        try :\n",
    "            empName= empTuple[\"name\"]\n",
    "            empJob = empTuple[\"job\"]\n",
    "            empHourly_rate = int(empTuple[\"hourly_rate\"])\n",
    "            empWeekly_hours_worked = int(empTuple[\"weekly_hours_worked\"])\n",
    "            empContract_hours =int(empTuple[\"contract_hours\"])\n",
    "            okCount+=1\n",
    "        except :\n",
    "            errors.append(empTuple)\n",
    "\n",
    "print(f\"{okCount} employees OK, {len(errors)} employees KO\")\n"
   ]
  },
  {
   "cell_type": "code",
   "execution_count": 6,
   "metadata": {},
   "outputs": [
    {
     "name": "stdout",
     "output_type": "stream",
     "text": [
      "Calcul du salaire Mensuel du premier employé :\n",
      "  filiale : ProjectLead, employé : Bob, job: Manager\n",
      "    empHourly_rate : 55\n",
      "    empWeekly_hours_worked : 46\n",
      "    empContract_hours : 35\n",
      "        overtimeHours : 11\n",
      "        contractHours : 35\n",
      "        week salary : 2832.50\n",
      "        month salary : 11330.00\n"
     ]
    }
   ],
   "source": [
    "import SourceCode.InputOutputManager as iomg\n",
    "data = iomg.openData()\n",
    "\n",
    "print(\"Calcul du salaire Mensuel du premier employé :\")\n",
    "salaries = {}\n",
    "for subName, subEmps in data.items() :\n",
    "    if subName !=\"ProjectLead\" : \n",
    "        continue\n",
    "    \n",
    "    print(f\"  filiale : {subName}, \", end ='')\n",
    "    for empTuple in subEmps :\n",
    "        if empTuple[\"name\"] != \"Bob\" :\n",
    "            continue \n",
    "\n",
    "        print(f\"employé : {empTuple[\"name\"]}, job: {empTuple[\"job\"]}\")\n",
    "        empHourly_rate = int(empTuple[\"hourly_rate\"])\n",
    "        empWeekly_hours_worked = int(empTuple[\"weekly_hours_worked\"])\n",
    "        empContract_hours = int(empTuple[\"contract_hours\"])\n",
    "\n",
    "        overtimeHours = empWeekly_hours_worked- empContract_hours\n",
    "        overtimeHours = overtimeHours if overtimeHours>0 else 0\n",
    "\n",
    "        contractHours = empWeekly_hours_worked - overtimeHours\n",
    "\n",
    "        salary = 0.0 \n",
    "        salary += float(contractHours*empHourly_rate)\n",
    "        if overtimeHours>0 :\n",
    "            salary += float(overtimeHours*1.5*empHourly_rate)\n",
    "\n",
    "        print(f\"    empHourly_rate : {empHourly_rate}\")\n",
    "        print(f\"    empWeekly_hours_worked : {empWeekly_hours_worked}\")\n",
    "        print(f\"    empContract_hours : {empContract_hours}\")\n",
    "        print(f\"        overtimeHours : {overtimeHours}\")\n",
    "        print(f\"        contractHours : {contractHours}\")\n",
    "        print(f\"        week salary : {salary:.2f}\")\n",
    "        print(f\"        month salary : {4.0*salary:.2f}\")\n"
   ]
  },
  {
   "cell_type": "code",
   "execution_count": 7,
   "metadata": {},
   "outputs": [
    {
     "name": "stdout",
     "output_type": "stream",
     "text": [
      "Calcul du salaire Moyen :\n",
      "    1 salaires\n",
      "    Salaire moyen : 11330.00\n"
     ]
    }
   ],
   "source": [
    "import SourceCode.InputOutputManager as iomg\n",
    "\n",
    "data = iomg.openData()\n",
    "\n",
    "print(\"Calcul du salaire Moyen :\")\n",
    "salaries = []\n",
    "for subName, subEmps in data.items() :\n",
    "    if subName !=\"ProjectLead\" : \n",
    "        continue\n",
    "     \n",
    "    for empTuple in subEmps :\n",
    "        if empTuple[\"name\"] != \"Bob\" :\n",
    "            continue \n",
    "\n",
    "        empHourly_rate = int(empTuple[\"hourly_rate\"])\n",
    "        empWeekly_hours_worked = int(empTuple[\"weekly_hours_worked\"])\n",
    "        empContract_hours = int(empTuple[\"contract_hours\"])\n",
    "\n",
    "        overtimeHours = empWeekly_hours_worked- empContract_hours\n",
    "        overtimeHours = overtimeHours if overtimeHours>0 else 0\n",
    "\n",
    "        contractHours = empWeekly_hours_worked - overtimeHours\n",
    "\n",
    "        salary = 0.0 \n",
    "        salary += float(contractHours*empHourly_rate)\n",
    "        if overtimeHours>0 :\n",
    "            salary += float(overtimeHours*1.5*empHourly_rate)\n",
    "\n",
    "        salaries.append(4.0*salary)\n",
    "\n",
    "\n",
    "print(f\"    {len(salaries)} salaires\")\n",
    "\n",
    "averageSalary = sum(salaries) / len(salaries)\n",
    "print(f\"    Salaire moyen : {averageSalary:.2f}\")\n"
   ]
  },
  {
   "cell_type": "code",
   "execution_count": 9,
   "metadata": {},
   "outputs": [
    {
     "name": "stdout",
     "output_type": "stream",
     "text": [
      "Utilisation d'une fonction pour calculer le salaire moyen :\n",
      "    Salaire moyen : 6883.60\n"
     ]
    }
   ],
   "source": [
    "import SourceCode.InputOutputManager as iomg\n",
    "import SourceCode.CalculationManager as cmg\n",
    "\n",
    "data = iomg.openData()\n",
    "\n",
    "print(f\"Utilisation d'une fonction pour calculer le salaire moyen :\")\n",
    "averageSalary = cmg.functionApply(cmg.getFunction(\"avg\"), data)\n",
    "print(f\"    Salaire moyen : {averageSalary:.2f}\")"
   ]
  },
  {
   "cell_type": "markdown",
   "metadata": {},
   "source": [
    "​3. Calcul des Statistiques Salariales\n",
    "\n",
    "Calculer les statistiques globales pour l'ensemble de l'entreprise :\n",
    "\n",
    "Salaire moyen\n",
    "\n",
    "Salaire le plus élevé\n",
    "\n",
    "Salaire le plus bas"
   ]
  },
  {
   "cell_type": "code",
   "execution_count": 11,
   "metadata": {},
   "outputs": [
    {
     "name": "stdout",
     "output_type": "stream",
     "text": [
      "Calcul général pour toutes les filiales\n",
      "    Salaire maximum  : 11330.00\n",
      "    Salaire moyen    : 6883.60\n",
      "    Salaire médian   : 6400.00\n",
      "    Salaire minnimum : 3600.00\n"
     ]
    }
   ],
   "source": [
    "import SourceCode.InputOutputManager as iomg\n",
    "import SourceCode.CalculationManager as cmg\n",
    "\n",
    "data = iomg.openData()\n",
    "\n",
    "print(f\"Calcul général pour toutes les filiales\")\n",
    "print(f\"    Salaire maximum  : {cmg.functionApply(cmg.getFunction(\"max\"), data):.2f}\")\n",
    "print(f\"    Salaire moyen    : {cmg.functionApply(cmg.getFunction(\"avg\"), data):.2f}\")\n",
    "print(f\"    Salaire médian   : {cmg.functionApply(cmg.getFunction(\"med\"), data):.2f}\")\n",
    "print(f\"    Salaire minnimum : {cmg.functionApply(cmg.getFunction(\"min\"), data):.2f}\")"
   ]
  },
  {
   "cell_type": "markdown",
   "metadata": {},
   "source": [
    "Calculer les mêmes statistiques pour chaque filiale."
   ]
  },
  {
   "cell_type": "code",
   "execution_count": 10,
   "metadata": {},
   "outputs": [
    {
     "name": "stdout",
     "output_type": "stream",
     "text": [
      "Calcul spécifique pour la filiale TechCorp\n",
      "    Salaire maximum  : 11300.00\n",
      "    Salaire moyen    : 6975.60\n",
      "    Salaire médian   : 6400.00\n",
      "    Salaire minnimum : 3600.00\n",
      "\n",
      "Calcul spécifique pour la filiale DesignWorks\n",
      "    Salaire maximum  : 10700.00\n",
      "    Salaire moyen    : 6748.11\n",
      "    Salaire médian   : 6104.00\n",
      "    Salaire minnimum : 3960.00\n",
      "\n",
      "Calcul spécifique pour la filiale ProjectLead\n",
      "    Salaire maximum  : 11330.00\n",
      "    Salaire moyen    : 6945.88\n",
      "    Salaire médian   : 6200.00\n",
      "    Salaire minnimum : 4480.00\n",
      "\n"
     ]
    }
   ],
   "source": [
    "import SourceCode.InputOutputManager as iomg\n",
    "import SourceCode.CalculationManager as cmg\n",
    "\n",
    "data = iomg.openData()\n",
    "\n",
    "for subsidiaryName in data.keys() :\n",
    "    print(f\"Calcul spécifique pour la filiale {subsidiaryName}\")\n",
    "    print(f\"    Salaire maximum  : {cmg.functionApply(cmg.getFunction(\"max\"), data, subsidiaryName):.2f}\")\n",
    "    print(f\"    Salaire moyen    : {cmg.functionApply(cmg.getFunction(\"avg\"), data, subsidiaryName):.2f}\")\n",
    "    print(f\"    Salaire médian   : {cmg.functionApply(cmg.getFunction(\"med\"), data, subsidiaryName):.2f}\")\n",
    "    print(f\"    Salaire minnimum : {cmg.functionApply(cmg.getFunction(\"min\"), data, subsidiaryName):.2f}\\n\")"
   ]
  },
  {
   "cell_type": "markdown",
   "metadata": {},
   "source": [
    "4. Affichage des Résultats\n",
    "\n",
    "Présenter les résultats de manière claire et lisible dans la console :\n",
    "\n",
    "Les salaires mensuels de chaque employé avec leur nom et poste.\n",
    "\n",
    "Les statistiques salariales globales et par filiale.\n",
    "\n",
    "Utiliser des messages formatés et structurés pour faciliter la lecture (espaces, indentations, etc.)\n"
   ]
  },
  {
   "cell_type": "code",
   "execution_count": 4,
   "metadata": {},
   "outputs": [
    {
     "name": "stdout",
     "output_type": "stream",
     "text": [
      "Entreprise: ProjectLead\n",
      "\n",
      "Bob      | Manager         | Salaire mensuel: 11330.00€\n",
      "Charlie  | Manager         | Salaire mensuel: 10120.00€\n",
      "Steve    | Chef de projet  | Salaire mensuel: 9500.00€\n",
      "Charlie  | Chef de projet  | Salaire mensuel: 8500.00€\n",
      "Tina     | Manager         | Salaire mensuel: 8140.00€\n",
      "Oliver   | Chef de projet  | Salaire mensuel: 7900.00€\n",
      "Nina     | Analyste        | Salaire mensuel: 7600.00€\n",
      "Rachel   | Designer        | Salaire mensuel: 6540.00€\n",
      "Jack     | Chef de projet  | Salaire mensuel: 6200.00€\n",
      "Jack     | Designer        | Salaire mensuel: 6180.00€\n",
      "Fred     | Testeur         | Salaire mensuel: 5992.00€\n",
      "Jack     | Testeur         | Salaire mensuel: 5768.00€\n",
      "Steve    | Designer        | Salaire mensuel: 5340.00€\n",
      "Linda    | Développeur     | Salaire mensuel: 5110.00€\n",
      "Oliver   | Développeur     | Salaire mensuel: 4900.00€\n",
      "Mike     | Développeur     | Salaire mensuel: 4480.00€\n",
      "Linda    | Testeur         | Salaire mensuel: 4480.00€\n",
      "\n",
      "==========================================================\n",
      "\n",
      "Statistiques des salaires pour l'entreprise ProjectLead:\n",
      "Salaire moyen: 6945.88€\n",
      "Salaire le plus élevé: 11330.00€\n",
      "Salaire le plus bas: 4480.00€\n",
      "\n",
      "==========================================================\n"
     ]
    }
   ],
   "source": [
    "import SourceCode.InputOutputManager as iomg\n",
    "import SourceCode.CalculationManager as cmg\n",
    "import SourceCode.PresentationManager as pmg\n",
    "\n",
    "data = iomg.openData()\n",
    "\n",
    "nameLength = pmg.getMaxEmpLen(data, \"name\")\n",
    "jobLength = pmg.getMaxEmpLen(data, \"job\")\n",
    "totalLength = nameLength + 3 + jobLength + 3 + len(\"salaire mensuel: 1000.00€\") + 6\n",
    "\n",
    "for subs, empList in data.items() :\n",
    "    if subs==\"DesignWorks\" : continue\n",
    "    if subs==\"TechCorp\" : continue\n",
    "\n",
    "    print(f\"Entreprise: {subs}\")\n",
    "    print()\n",
    "\n",
    "    empCount =0\n",
    "    for empData in sorted(map(lambda emp: cmg.getEmpWithSalary(emp), empList), key=lambda emp : emp[\"salary\"], reverse=True) :\n",
    "        print(\"{0} | {1} | Salaire mensuel: {2:.2f}€\".format(\n",
    "            pmg.fillWithSpaces(empData[\"name\"], nameLength+1),\n",
    "            pmg.fillWithSpaces(empData[\"job\"], jobLength+1),\n",
    "            empData[\"salary\"]))   \n",
    "        \n",
    "        empCount += 1\n",
    "        #if empCount ==2 : break\n",
    "         \n",
    "    print()\n",
    "    print(\"=\"*totalLength) \n",
    "    print() \n",
    "    print(f\"Statistiques des salaires pour l'entreprise {subs}:\")\n",
    "    print(f\"Salaire moyen: {cmg.functionApply(cmg.getFunction(\"avg\"), data, subs):.2f}€\")\n",
    "    print(f\"Salaire le plus élevé: {cmg.functionApply(cmg.getFunction(\"max\"), data, subs):.2f}€\")\n",
    "    print(f\"Salaire le plus bas: {cmg.functionApply(cmg.getFunction(\"min\"), data, subs):.2f}€\")\n",
    "    print() \n",
    "    print(\"=\"*totalLength)\n",
    "\n",
    "        "
   ]
  },
  {
   "cell_type": "markdown",
   "metadata": {},
   "source": [
    "Utilisation d'une fonction"
   ]
  },
  {
   "cell_type": "code",
   "execution_count": 2,
   "metadata": {},
   "outputs": [
    {
     "name": "stdout",
     "output_type": "stream",
     "text": [
      "________________________________________________________________________________\n",
      "name: GLOBAL\n",
      "statistics: {'max_salary': 11330.0, 'average_salary': 6883.6, 'median_salary': 6400.0, 'min_salary': 3600.0}\n",
      "enterprises:\n",
      "    ____________________________________________________________________________\n",
      "    name: ProjectLead\n",
      "    statistics: {'max_salary': 11330.0, 'average_salary': 6945.88, 'median_salary': 6200.0, 'min_salary': 4480.0}\n",
      "    employees:\n",
      "        ________________________________________________________________________\n",
      "        name: Bob     | job: Manager        | salary: 11330.00\n",
      "        name: Charlie | job: Manager        | salary: 10120.00\n",
      "        name: Steve   | job: Chef de projet | salary: 9500.00\n",
      "        name: Charlie | job: Chef de projet | salary: 8500.00\n",
      "        name: Tina    | job: Manager        | salary: 8140.00\n",
      "        name: Oliver  | job: Chef de projet | salary: 7900.00\n",
      "        name: Nina    | job: Analyste       | salary: 7600.00\n",
      "        name: Rachel  | job: Designer       | salary: 6540.00\n",
      "        name: Jack    | job: Chef de projet | salary: 6200.00\n",
      "        name: Jack    | job: Designer       | salary: 6180.00\n",
      "        name: Fred    | job: Testeur        | salary: 5992.00\n",
      "        name: Jack    | job: Testeur        | salary: 5768.00\n",
      "        name: Steve   | job: Designer       | salary: 5340.00\n",
      "        name: Linda   | job: Développeur    | salary: 5110.00\n",
      "        name: Oliver  | job: Développeur    | salary: 4900.00\n",
      "        name: Mike    | job: Développeur    | salary: 4480.00\n",
      "        name: Linda   | job: Testeur        | salary: 4480.00\n"
     ]
    }
   ],
   "source": [
    "import SourceCode.InputOutputManager as iomg\n",
    "import SourceCode.CalculationManager as cmg\n",
    "import SourceCode.PresentationManager as pmg\n",
    "\n",
    "sourceData = iomg.openData()\n",
    "modifiedData = cmg.createModifiedData(sourceData)\n",
    "\n",
    "empNamLen = pmg.getMaxEmpLen(sourceData, \"name\")\n",
    "empJobLen = pmg.getMaxEmpLen(sourceData, \"job\")\n",
    "\n",
    "print(\"_\"*80)\n",
    "print(f\"name: {modifiedData[\"name\"]}\")\n",
    "print(f\"statistics: {modifiedData[\"statistics\"]}\")\n",
    "print(\"enterprises:\")\n",
    "for enterprise in modifiedData[\"enterprises\"]:\n",
    "    if enterprise[\"name\"] != \"ProjectLead\" :\n",
    "        continue\n",
    "\n",
    "    print( \" \"*4 + \"_\"*76)\n",
    "    print(\" \"*4 + f\"name: {enterprise[\"name\"]}\")\n",
    "    print(\" \"*4 + f\"statistics: {enterprise[\"statistics\"]}\")\n",
    "    print(\" \"*4 + \"employees:\")\n",
    "    print(\" \"*8 + \"_\"*72)\n",
    "    for employee in enterprise[\"employees\"]:\n",
    "        print(\" \"*8+\"name: {0} | job: {1} | salary: {2:.2f}\".format(\n",
    "            pmg.fillWithSpaces(employee[\"name\"], empNamLen),\n",
    "            pmg.fillWithSpaces(employee[\"job\"],  empJobLen),\n",
    "            employee[\"salary\"]))\n",
    "    \n"
   ]
  },
  {
   "cell_type": "markdown",
   "metadata": {},
   "source": [
    "Export dans un document CSV"
   ]
  },
  {
   "cell_type": "code",
   "execution_count": 1,
   "metadata": {},
   "outputs": [],
   "source": [
    "import SourceCode.InputOutputManager as iomg\n",
    "import SourceCode.CalculationManager as cmg\n",
    "import SourceCode.PresentationManager as pmg\n",
    "\n",
    "sourceData = iomg.openData()\n",
    "modifiedData = cmg.createModifiedData(sourceData)\n",
    "\n",
    "csvLines = pmg.createCsvLines(modifiedData)\n",
    "\n",
    "iomg.saveToCSV(csvLines)\n"
   ]
  },
  {
   "cell_type": "code",
   "execution_count": 7,
   "metadata": {},
   "outputs": [
    {
     "name": "stdout",
     "output_type": "stream",
     "text": [
      "exemple presentation.png\n",
      "IN_Folder\n",
      "json — JSON encoder and decoder — Python 3.13.0 documentation_fichiers\n",
      "json — JSON encoder and decoder — Python 3.13.0 documentation.html\n",
      "OUT_Folder\n",
      "Presentation.ipynb\n",
      "SourceCode\n",
      "CompletedProcess(args='ls', returncode=0)\n"
     ]
    }
   ],
   "source": [
    "import subprocess as sp\n",
    "import os\n",
    "\n",
    "completedProcess = sp.run(\"ls\", shell= True)\n",
    "#print(completedProcess)\n",
    "#sp.run(\"libreoffice --calc -o Documents/WORK/PYTHON/brief1/OUT_Folder/result.csv\", shell= True)\n",
    "#os.system(\"libreoffice --calc -o Documents/WORK/PYTHON/brief1/OUT_Folder/result.csv\")\n",
    "\n",
    "\n",
    "\n",
    "\n",
    "\n"
   ]
  },
  {
   "cell_type": "markdown",
   "metadata": {},
   "source": [
    "5. Qualité du Code\n",
    "\n",
    "Le code doit être parfaitement commenté.\n",
    "\n",
    "Utiliser des docstrings pour décrire les fonctions (inclure les entrées, les sorties, le rôle de la fonction).\n",
    "\n",
    "Utiliser des annotations de type (type hints) pour améliorer la lisibilité et la maintenance du code.\n",
    "\n",
    "Respecter les bonnes pratiques de nommage et de structuration du code.\n"
   ]
  },
  {
   "cell_type": "markdown",
   "metadata": {},
   "source": [
    "\n",
    "​\n",
    "\n",
    "6. Bonus 1 (Optionnel)\n",
    "\n",
    "Générer un fichier CSV ou Excel contenant les résultats :\n",
    "\n",
    "Les salaires mensuels des employés.\n",
    "\n",
    "Les statistiques salariales.\n",
    "\n",
    "Le fichier doit être structuré et exploitable par d'autres logiciels.\n",
    "\n",
    "​\n",
    "\n",
    "7. Bonus 2 (Optionnel)\n",
    "\n",
    "Développer une application graphique simple pour afficher les résultats de manière interactive.\n",
    "\n",
    "Utiliser Tkinter ou Streamlit.\n",
    "\n",
    "L'application peut permettre de :\n",
    "\n",
    "Visualiser les salaires par filiale.\n",
    "\n",
    "Afficher les statistiques salariales.\n",
    "\n",
    "Rechercher un employé spécifique.\n"
   ]
  }
 ],
 "metadata": {
  "kernelspec": {
   "display_name": ".venv",
   "language": "python",
   "name": "python3"
  },
  "language_info": {
   "codemirror_mode": {
    "name": "ipython",
    "version": 3
   },
   "file_extension": ".py",
   "mimetype": "text/x-python",
   "name": "python",
   "nbconvert_exporter": "python",
   "pygments_lexer": "ipython3",
   "version": "3.12.3"
  }
 },
 "nbformat": 4,
 "nbformat_minor": 2
}
